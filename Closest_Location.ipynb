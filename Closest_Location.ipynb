{
  "nbformat": 4,
  "nbformat_minor": 0,
  "metadata": {
    "colab": {
      "name": "Postcode_of_Patients.ipynb",
      "provenance": [],
      "collapsed_sections": []
    },
    "kernelspec": {
      "name": "python3",
      "display_name": "Python 3"
    },
    "language_info": {
      "name": "python"
    },
    "gpuClass": "standard"
  },
  "cells": [
    {
      "cell_type": "markdown",
      "source": [
        "This code provides us with the closest locations in the E-OBS dataset to the existing stations in the project.\n",
        "For this purpose, we consider Euclidean distance as a measure of distance.\n",
        " "
      ],
      "metadata": {
        "id": "76NJUOkN914V"
      }
    },
    {
      "cell_type": "code",
      "execution_count": null,
      "metadata": {
        "id": "f4WzRUG80NJz"
      },
      "outputs": [],
      "source": [
        "import pandas as pd\n",
        "import numpy as np\n",
        "from netCDF4 import Dataset"
      ]
    },
    {
      "cell_type": "code",
      "source": [
        "my_example_nc_file = '/content/drive/MyDrive/Project/Data/Weather_Data/TG/tg_ens_mean_0.1deg_reg_2011-2021_v25.0e.nc'\n",
        "tg = Dataset(my_example_nc_file, mode='r')"
      ],
      "metadata": {
        "id": "S2pPK0nYBRI8"
      },
      "execution_count": null,
      "outputs": []
    },
    {
      "cell_type": "code",
      "source": [
        "Station_locations = pd.read_csv('/content/drive/MyDrive/Project/Data/AirQuality/postcode_of_station.csv')\n",
        "Station_locations.head(5)"
      ],
      "metadata": {
        "id": "n6-1Z0pI0rNE"
      },
      "execution_count": null,
      "outputs": []
    },
    {
      "cell_type": "code",
      "source": [
        "Locations = list(zip(ITStation_locations['latitude'], ITStation_locations['longitude']))"
      ],
      "metadata": {
        "id": "C5iZn37f-IE_"
      },
      "execution_count": null,
      "outputs": []
    },
    {
      "cell_type": "code",
      "source": [
        "Portuguese_stations = Station_locations [ Station_locations.apply(lambda row : row['country'] == 3, axis = 1) ]\n",
        "Portuguese_locations = Portuguese_stations[ ['postcode','latitude','longitude'] ]\n",
        "Portuguese_locations.to_csv('PortugueseStationLocations.csv')"
      ],
      "metadata": {
        "id": "LQQ0nRMA2hnR"
      },
      "execution_count": null,
      "outputs": []
    },
    {
      "cell_type": "code",
      "source": [
        "latitude= pd.Series(tg.variables['latitude'][:].data)\n",
        "longitude= pd.Series(tg.variables['longitude'][:].data)\n",
        "EuropeLocation = []\n",
        "for lat in latitude:\n",
        "  for lon in longitude:\n",
        "    EuropeLocation.append((lat,lon,))"
      ],
      "metadata": {
        "id": "D4JnTTR0BYSa"
      },
      "execution_count": null,
      "outputs": []
    },
    {
      "cell_type": "code",
      "source": [
        "from scipy.spatial import distance\n",
        "result = []\n",
        "for ITloc in Locations:\n",
        "  temp = []\n",
        "  for loc in EuropeLocation:\n",
        "    temp.append([distance.euclidean(ITloc,loc),loc])\n",
        "  closest_distance = min(temp)\n",
        "  result.append((ITloc,closest_distance))"
      ],
      "metadata": {
        "id": "YQKoBlJG2ZMD"
      },
      "execution_count": null,
      "outputs": []
    },
    {
      "cell_type": "code",
      "source": [
        "Findings_distances = pd.DataFrame(result, columns= ['E-OBS Location', 'Closest Distance'])\n",
        "Findings_distances.head(5)"
      ],
      "metadata": {
        "id": "eu7rx2T6VkeS"
      },
      "execution_count": null,
      "outputs": []
    },
    {
      "cell_type": "code",
      "source": [
        "Findings_distances.to_csv('Closest_location_Portugal.csv', index = False)"
      ],
      "metadata": {
        "id": "JLEo3Fd7YnJr"
      },
      "execution_count": null,
      "outputs": []
    }
  ]
}
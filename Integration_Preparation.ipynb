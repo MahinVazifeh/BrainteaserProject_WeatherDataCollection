{
  "nbformat": 4,
  "nbformat_minor": 0,
  "metadata": {
    "colab": {
      "name": "Integration_Preparation.ipynb",
      "provenance": [],
      "collapsed_sections": []
    },
    "kernelspec": {
      "name": "python3",
      "display_name": "Python 3"
    },
    "language_info": {
      "name": "python"
    }
  },
  "cells": [
    {
      "cell_type": "code",
      "execution_count": null,
      "metadata": {
        "id": "HpY0ngsQ5qSv"
      },
      "outputs": [],
      "source": [
        "# importing the necessary libraries\n",
        "import numpy as np\n",
        "import pandas as pd\n",
        "import os"
      ]
    },
    {
      "cell_type": "code",
      "source": [
        "# The final CSV file format\n",
        "empty_df = pd.DataFrame(columns = ['postcode','measurement','date','value'])"
      ],
      "metadata": {
        "id": "nBhCfK3q1ak5"
      },
      "execution_count": null,
      "outputs": []
    },
    {
      "cell_type": "code",
      "source": [
        "# Making the desired format CSV file for integrating the weather data to airquality data\n",
        "folder_path = '/content/drive/MyDrive/Project/Data/Findings/Locations/Imputed_WeatherData/Portugal/'\n",
        "list_path = os.listdir(folder_path)\n",
        "for i in range(len(list_path)):\n",
        "  path = folder_path+list_path[i]\n",
        "  data = pd.read_csv(path)\n",
        "  splited_path = (path.split('/'))[-1].split('_')\n",
        "  for i in range(data.shape[0]):\n",
        "    row = data.iloc[i]\n",
        "    temp = row[3:].reset_index()\n",
        "    temp.columns = ['date','value']\n",
        "    temp['postcode'] = row.loc['postcode']\n",
        "    temp['measurement'] = splited_path[0]\n",
        "    temp['date'] = pd.date_range(start='1/1/2011', end='31/12/2021')\n",
        "    empty_df = empty_df.append(temp, ignore_index=True)"
      ],
      "metadata": {
        "id": "mQeFSMv_uxbD"
      },
      "execution_count": null,
      "outputs": []
    },
    {
      "cell_type": "code",
      "source": [
        "# Changing the type of postcode feature (Float into Int)\n",
        "empty_df['postcode'] = empty_df['postcode'].astype('int64')"
      ],
      "metadata": {
        "id": "bPdMC_09NvAA"
      },
      "execution_count": null,
      "outputs": []
    },
    {
      "cell_type": "code",
      "source": [
        "# Save the obtained data for each country\n",
        "empty_df.to_csv('Portugal.csv', index = False)"
      ],
      "metadata": {
        "id": "F660fTl69_AC"
      },
      "execution_count": null,
      "outputs": []
    }
  ]
}
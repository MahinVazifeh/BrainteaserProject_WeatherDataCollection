{
  "nbformat": 4,
  "nbformat_minor": 0,
  "metadata": {
    "colab": {
      "name": "Missing Weather Data Imputation.ipynb",
      "provenance": [],
      "collapsed_sections": []
    },
    "kernelspec": {
      "name": "python3",
      "display_name": "Python 3"
    },
    "language_info": {
      "name": "python"
    }
  },
  "cells": [
    {
      "cell_type": "code",
      "execution_count": null,
      "metadata": {
        "id": "8mzRGdnbRizM"
      },
      "outputs": [],
      "source": [
        "# Read libraries\n",
        "import numpy as np\n",
        "import pandas as pd\n",
        "from scipy.spatial import distance\n",
        "from numpy.ma.core import sort\n",
        "from sklearn.impute import KNNImputer"
      ]
    },
    {
      "cell_type": "code",
      "source": [
        "# Read Dataset\n",
        "dataset = pd.read_csv('/content/drive/MyDrive/Project/Data/Findings/Locations/Spain/pp_weather_Bigdata.csv')\n",
        "dataset.head(5)"
      ],
      "metadata": {
        "id": "1L5MccgZSc9o"
      },
      "execution_count": null,
      "outputs": []
    },
    {
      "cell_type": "code",
      "source": [
        "# Replacing -9999 value with Missing data\n",
        "dataset  = dataset.replace(-9999, np.nan)"
      ],
      "metadata": {
        "id": "r1OnqWbwTBFN"
      },
      "execution_count": null,
      "outputs": []
    },
    {
      "cell_type": "code",
      "source": [
        "# Droping the postcode feature\n",
        "dataset.drop(labels='postcode', axis = 1, inplace=True)"
      ],
      "metadata": {
        "id": "Hk6h45lc8q6-"
      },
      "execution_count": null,
      "outputs": []
    },
    {
      "cell_type": "code",
      "source": [
        "# First Option for Imputing the Missing data using KNN Method\n",
        "imputer = KNNImputer(n_neighbors=1)\n",
        "dataset = imputer.fit_transform(dataset)\n",
        "dataset = pd.DataFrame(dataset)\n",
        "dataset.to_csv('pp_ImputedDataset.csv', index = False)"
      ],
      "metadata": {
        "id": "CA3FsHgMcDqY"
      },
      "execution_count": null,
      "outputs": []
    },
    {
      "cell_type": "code",
      "source": [
        "# Second Option for Imputing the Missing data Manually\n",
        "\n",
        "# Finding the Number of Missing Locations\n",
        "Missing_dataset = dataset[np.sum(np.isnan(dataset) , axis = 1) > 0]\n",
        "Missing_dataset.shape\n",
        "\n",
        "# Getting the location's measurement (Lat, Long)\n",
        "All_Locations = list(zip(dataset['Station Latitude'], dataset['Station Longitude']))\n",
        "Missing_Locations = list(zip(Missing_dataset['Station Latitude'], Missing_dataset['Station Longitude']))\n",
        "\n",
        "# Measuring the distance locations and finding the closest lcation for imputing the missing value\n",
        "result = []\n",
        "for miss_loc in Missing_Locations:\n",
        "  temp = []\n",
        "  for loc in All_Locations:\n",
        "    temp.append([distance.euclidean(loc,miss_loc),loc])\n",
        "  temp.sort()\n",
        "  result.append((miss_loc,temp[1])) # temp[1] is the closest location with missing sample\n",
        "Findings_distances = pd.DataFrame(result, columns= ['Missing_Location', 'Closest Location'])\n",
        "Findings_distances.to_csv('fg_Italy_Missing_Closest_Location.csv', index = False)"
      ],
      "metadata": {
        "id": "Kbqfm5FIt51p"
      },
      "execution_count": null,
      "outputs": []
    }
  ]
}
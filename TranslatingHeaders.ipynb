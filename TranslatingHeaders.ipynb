{
  "nbformat": 4,
  "nbformat_minor": 0,
  "metadata": {
    "colab": {
      "provenance": []
    },
    "kernelspec": {
      "name": "python3",
      "display_name": "Python 3"
    },
    "language_info": {
      "name": "python"
    }
  },
  "cells": [
    {
      "cell_type": "code",
      "execution_count": 3,
      "metadata": {
        "id": "Bla8goq8ZZGC"
      },
      "outputs": [],
      "source": [
        "import numpy as np\n",
        "import pandas as pd\n",
        "import seaborn as sea\n",
        "import matplotlib.pyplot as plt\n",
        "from googletrans import Translator"
      ]
    },
    {
      "cell_type": "code",
      "source": [
        "!pip install googletrans==3.1.0a0"
      ],
      "metadata": {
        "id": "Fc-9thuJ2HXu"
      },
      "execution_count": null,
      "outputs": []
    },
    {
      "cell_type": "code",
      "source": [
        "filled_sheets = ['Anagrafica','Esordio e diagnosi','Visite','Riacutizzazioni','Eventi clinici','Trattamenti',\n",
        "                 'Gravidanze','Gravidanze (Complicanze)','Gravidanze (Anomalie)','Co-Morbilità', 'Anamnesi Patologica Familiare',\n",
        "                 'Ematochimici di routine','Altri esami specifici','Liquor','RMN','Potenziali Evocati','Controllo Pressione',\n",
        "                 'Altri esami']"
      ],
      "metadata": {
        "id": "I_z1CK2PnjuJ"
      },
      "execution_count": 5,
      "outputs": []
    },
    {
      "cell_type": "code",
      "source": [
        "Empty_sheets = ['Genitori e Anamnesi Familiare','Anamnesi Scolastica','Sviluppo Psicomotorio','Sviluppo Puberale',\n",
        "                'Vaccinazioni','Fattori di Rischio','Valutazione Cognitiva e Fatica','Valutazione Psicosociale',\n",
        "                'Valutazione NRS','Foot Walk','Consulenze Specialistiche','EEG','ECG','Foglio1']"
      ],
      "metadata": {
        "id": "RrytCU0Ho4Zt"
      },
      "execution_count": null,
      "outputs": []
    },
    {
      "cell_type": "code",
      "source": [
        "data = pd.ExcelFile('/content/drive/MyDrive/Project/Data/Clinical Data/MNDN_PV_retrospective_data_MOD.xlsx')\n",
        "translator = Translator()\n",
        "datasets = []\n",
        "for i in range(len(filled_sheets)):\n",
        "  English_column_names = []\n",
        "  dataset_sheet_i = pd.read_excel(data, sheet_name=filled_sheets[i])\n",
        "  # The first solution : Loop\n",
        "  # for j in range(len(dataset_sheet_i.columns)):\n",
        "  #   English_column_names.append(translator.translate(dataset_sheet_i.columns[j], dest='en').text)\n",
        "  # dataset_sheet_i.columns = English_column_names\n",
        "  # The Second solution: Lambda\n",
        "  dataset_sheet_i.columns = list(map(lambda x: translator.translate(x,dest='en').text,dataset_sheet_i.columns))\n",
        "  datasets.append(dataset_sheet_i)"
      ],
      "metadata": {
        "id": "PZHBACdexVuQ"
      },
      "execution_count": 11,
      "outputs": []
    },
    {
      "cell_type": "code",
      "source": [
        "with pd.ExcelWriter('Clinical_Data_1.xlsx') as writer: \n",
        "  for i in range(len(filled_sheets)):\n",
        "    datasets[i].to_excel(writer, sheet_name=filled_sheets[i])"
      ],
      "metadata": {
        "id": "msCvEimH5HHH"
      },
      "execution_count": 12,
      "outputs": []
    }
  ]
}
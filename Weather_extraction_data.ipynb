{
  "cells": [
    {
      "cell_type": "markdown",
      "source": [
        "### How to convert weather big data in NC file format into csv file format"
      ],
      "metadata": {
        "id": "YFQnJGD1y7x5"
      }
    },
    {
      "cell_type": "markdown",
      "source": [
        "1) Import necessary python packages including **netCDF4** to read the NC file"
      ],
      "metadata": {
        "id": "jF-DteLdzaz5"
      }
    },
    {
      "cell_type": "code",
      "execution_count": null,
      "metadata": {
        "id": "F_rrK5o4ZBxp"
      },
      "outputs": [],
      "source": [
        "import pandas as pd\n",
        "import numpy as np\n",
        "from netCDF4 import Dataset\n",
        "from scipy.spatial import distance"
      ]
    },
    {
      "cell_type": "markdown",
      "source": [
        "2) Read the NC file using **Dataset** function defined in netCDF4"
      ],
      "metadata": {
        "id": "g_SClEuL0TyN"
      }
    },
    {
      "cell_type": "code",
      "execution_count": null,
      "metadata": {
        "id": "TanaSg9QZnt4"
      },
      "outputs": [],
      "source": [
        "my_example_nc_file = '/content/drive/MyDrive/Project/Data/Weather_Data/HU/hu_ens_mean_0.1deg_reg_2011-2021_v25.0e.nc'\n",
        "data = Dataset(my_example_nc_file, mode='r')"
      ]
    },
    {
      "cell_type": "markdown",
      "source": [
        "3) To find the weather data of the stations involved in the project, the nearest locations with the stations' location They were previously found and stored in three files. The dataset below includes locations in Italy."
      ],
      "metadata": {
        "id": "PjGFCHtj0p0y"
      }
    },
    {
      "cell_type": "code",
      "source": [
        "data.variables.keys()"
      ],
      "metadata": {
        "colab": {
          "base_uri": "https://localhost:8080/"
        },
        "id": "oSM5fHs856nn",
        "outputId": "9513c749-ea8d-426c-b043-ac34e38bf3b3"
      },
      "execution_count": null,
      "outputs": [
        {
          "output_type": "execute_result",
          "data": {
            "text/plain": [
              "dict_keys(['time', 'longitude', 'latitude', 'hu'])"
            ]
          },
          "metadata": {},
          "execution_count": 7
        }
      ]
    },
    {
      "cell_type": "code",
      "execution_count": null,
      "metadata": {
        "id": "ByfGQxLlYijT"
      },
      "outputs": [],
      "source": [
        "StationLocation = pd.read_csv('/content/drive/MyDrive/Project/Data/Findings/Locations/Spain/Closest_location_with_E-OBSData_Spain.csv')\n",
        "StationLocation.head()"
      ]
    },
    {
      "cell_type": "markdown",
      "source": [
        "4) Make a matrix with latitude*longitude size to access to E-OBS weather data\n",
        "\n",
        "**Note**: As the data is in dictionary format, It has to be transformed into DataFrame"
      ],
      "metadata": {
        "id": "x0XJu63w46QK"
      }
    },
    {
      "cell_type": "code",
      "execution_count": null,
      "metadata": {
        "id": "bi9Q9mo-g7qZ"
      },
      "outputs": [],
      "source": [
        "latitude= pd.Series(data.variables['lat'][:].data)\n",
        "longitude= pd.Series(data.variables['lon'][:].data)\n",
        "EuropeLocation = []\n",
        "for lat in latitude:\n",
        "  for lon in longitude:\n",
        "    EuropeLocation.append((lat,lon,))"
      ]
    },
    {
      "cell_type": "markdown",
      "source": [
        "5) Extract the weather data and transfer it to a CSV file.\n",
        "\n",
        "To do this:\n",
        "\n",
        "First: access latitude and longitude of the station location from StationLocations.\n",
        "\n",
        "Second: Extract the weather data of the station location for all days (from 2011 to 2021).\n",
        "\n",
        "Third: Repeat the process for all stations in the project."
      ],
      "metadata": {
        "id": "JdIcLX7S7mRg"
      }
    },
    {
      "cell_type": "code",
      "execution_count": null,
      "metadata": {
        "id": "M0O3iISlJ6WT"
      },
      "outputs": [],
      "source": [
        "data_tm = {}\n",
        "for loc in range(len(StationLocation)):\n",
        "  lat = StationLocation['Index Lat'][loc]\n",
        "  lon = StationLocation['Index Long'][loc]\n",
        "  temp = []\n",
        "  for tm in range(len(data.variables['qq'])):\n",
        "    temp.append(data.variables['qq'][tm].data[0,lat,lon])\n",
        "  data_tm[loc]= temp\n",
        "  print(loc, temp)\n",
        "dataset = pd.DataFrame(data_tm)\n",
        "dataset = dataset.T\n",
        "dataset.to_csv('qq_weather_Bigdata_Spain.csv', index = False)"
      ]
    },
    {
      "cell_type": "code",
      "source": [
        ""
      ],
      "metadata": {
        "id": "-U2TlvT3Paf8"
      },
      "execution_count": null,
      "outputs": []
    }
  ],
  "metadata": {
    "colab": {
      "collapsed_sections": [],
      "name": "Weather_extraction_data.ipynb",
      "provenance": []
    },
    "kernelspec": {
      "display_name": "Python 3",
      "name": "python3"
    },
    "language_info": {
      "name": "python"
    }
  },
  "nbformat": 4,
  "nbformat_minor": 0
}